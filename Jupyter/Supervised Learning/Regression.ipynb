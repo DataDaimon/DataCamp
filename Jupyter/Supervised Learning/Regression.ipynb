{
 "cells": [
  {
   "cell_type": "code",
   "execution_count": 1,
   "id": "39eb8220",
   "metadata": {},
   "outputs": [],
   "source": [
    "import pandas as pd\n",
    "import numpy as np\n",
    "from sklearn.linear_model import LinearRegression\n",
    "import matplotlib.pyplot as plt\n",
    "from sklearn.model_selection import train_test_split\n",
    "from sklearn.metrics import mean_squared_error"
   ]
  },
  {
   "cell_type": "code",
   "execution_count": 2,
   "id": "cb68642f",
   "metadata": {},
   "outputs": [],
   "source": [
    "sales_df = pd.read_csv(\"C:/Users/Richard/Documents/GitHub/DataCamp/Datasets/Supervised Learning/advertising_and_sales_clean.csv\")"
   ]
  },
  {
   "cell_type": "code",
   "execution_count": 3,
   "id": "e2df4932",
   "metadata": {},
   "outputs": [
    {
     "name": "stdout",
     "output_type": "stream",
     "text": [
      "        tv     radio  social_media influencer      sales\n",
      "0  16000.0   6566.23       2907.98       Mega   54732.76\n",
      "1  13000.0   9237.76       2409.57       Mega   46677.90\n",
      "2  41000.0  15886.45       2913.41       Mega  150177.83\n",
      "3  83000.0  30020.03       6922.30       Mega  298246.34\n",
      "4  15000.0   8437.41       1406.00      Micro   56594.18\n"
     ]
    }
   ],
   "source": [
    "print(sales_df.head())"
   ]
  },
  {
   "cell_type": "code",
   "execution_count": 4,
   "id": "2a6d5048",
   "metadata": {},
   "outputs": [
    {
     "name": "stdout",
     "output_type": "stream",
     "text": [
      "(4546, 1) (4546,)\n"
     ]
    }
   ],
   "source": [
    "# Create X from the radio column's values\n",
    "X = sales_df[\"radio\"].values\n",
    "\n",
    "# Create y from the sales column's values\n",
    "y = sales_df[\"sales\"].values\n",
    "\n",
    "# Reshape X\n",
    "X = X.reshape(-1, 1)\n",
    "\n",
    "# Check the shape of the features and targets\n",
    "print(X.shape, y.shape)"
   ]
  },
  {
   "cell_type": "code",
   "execution_count": 5,
   "id": "24e86a2e",
   "metadata": {},
   "outputs": [
    {
     "name": "stdout",
     "output_type": "stream",
     "text": [
      "[ 95491.17119147 117829.51038393 173423.38071499 291603.11444202\n",
      " 111137.28167129]\n"
     ]
    }
   ],
   "source": [
    "# Create the model\n",
    "reg = LinearRegression()\n",
    "\n",
    "# Fit the model to the data\n",
    "reg.fit(X, y)\n",
    "\n",
    "# Make predictions\n",
    "predictions = reg.predict(X)\n",
    "\n",
    "print(predictions[:5])"
   ]
  },
  {
   "cell_type": "code",
   "execution_count": 6,
   "id": "5fd0cd76",
   "metadata": {},
   "outputs": [
    {
     "data": {
      "image/png": "[encoded data removed]",
      "text/plain": [
       "<Figure size 432x288 with 1 Axes>"
      ]
     },
     "metadata": {
      "needs_background": "light"
     },
     "output_type": "display_data"
    }
   ],
   "source": [
    "# Create scatter plot\n",
    "plt.scatter(X, y, color=\"blue\")\n",
    "\n",
    "# Create line plot\n",
    "plt.plot(X, predictions, color=\"red\")\n",
    "plt.xlabel(\"Radio Expenditure ($)\")\n",
    "plt.ylabel(\"Sales ($)\")\n",
    "\n",
    "# Display the plot\n",
    "plt.show()"
   ]
  },
  {
   "cell_type": "code",
   "execution_count": 7,
   "id": "8b3fcf61",
   "metadata": {},
   "outputs": [
    {
     "name": "stdout",
     "output_type": "stream",
     "text": [
      "           tv     radio  social_media influencer      sales\n",
      "0     16000.0   6566.23       2907.98       Mega   54732.76\n",
      "1     13000.0   9237.76       2409.57       Mega   46677.90\n",
      "2     41000.0  15886.45       2913.41       Mega  150177.83\n",
      "3     83000.0  30020.03       6922.30       Mega  298246.34\n",
      "4     15000.0   8437.41       1406.00      Micro   56594.18\n",
      "...       ...       ...           ...        ...        ...\n",
      "4541  26000.0   4472.36        717.09      Micro   94685.87\n",
      "4542  71000.0  20610.69       6545.57       Nano  249101.92\n",
      "4543  44000.0  19800.07       5096.19      Micro  163631.46\n",
      "4544  71000.0  17534.64       1940.87      Macro  253610.41\n",
      "4545  42000.0  15966.69       5046.55      Micro  148202.41\n",
      "\n",
      "[4546 rows x 5 columns]\n"
     ]
    }
   ],
   "source": [
    "print(sales_df)"
   ]
  },
  {
   "cell_type": "code",
   "execution_count": 8,
   "id": "4d268186",
   "metadata": {},
   "outputs": [],
   "source": [
    "sales_df = sales_df.drop(\"influencer\", axis=1)"
   ]
  },
  {
   "cell_type": "code",
   "execution_count": 9,
   "id": "465545c8",
   "metadata": {},
   "outputs": [
    {
     "name": "stdout",
     "output_type": "stream",
     "text": [
      "           tv     radio  social_media      sales\n",
      "0     16000.0   6566.23       2907.98   54732.76\n",
      "1     13000.0   9237.76       2409.57   46677.90\n",
      "2     41000.0  15886.45       2913.41  150177.83\n",
      "3     83000.0  30020.03       6922.30  298246.34\n",
      "4     15000.0   8437.41       1406.00   56594.18\n",
      "...       ...       ...           ...        ...\n",
      "4541  26000.0   4472.36        717.09   94685.87\n",
      "4542  71000.0  20610.69       6545.57  249101.92\n",
      "4543  44000.0  19800.07       5096.19  163631.46\n",
      "4544  71000.0  17534.64       1940.87  253610.41\n",
      "4545  42000.0  15966.69       5046.55  148202.41\n",
      "\n",
      "[4546 rows x 4 columns]\n"
     ]
    }
   ],
   "source": [
    "print(sales_df)"
   ]
  },
  {
   "cell_type": "code",
   "execution_count": 10,
   "id": "d501b457",
   "metadata": {},
   "outputs": [
    {
     "name": "stdout",
     "output_type": "stream",
     "text": [
      "Predictions: [53176.66154234 70996.19873235], Actual Values: [55261.28 67574.9 ]\n"
     ]
    }
   ],
   "source": [
    "# Create X and y arrays\n",
    "X = sales_df.drop(\"sales\", axis=1).values\n",
    "y = sales_df[\"sales\"].values\n",
    "\n",
    "X_train, X_test, y_train, y_test = train_test_split(X, y, test_size=0.3, random_state=42)\n",
    "\n",
    "# Instantiate the model\n",
    "reg = LinearRegression()\n",
    "\n",
    "# Fit the model to the data\n",
    "reg.fit(X_train, y_train)\n",
    "\n",
    "# Make predictions\n",
    "y_pred = reg.predict(X_test)\n",
    "print(\"Predictions: {}, Actual Values: {}\".format(y_pred[:2], y_test[:2]))"
   ]
  },
  {
   "cell_type": "code",
   "execution_count": 11,
   "id": "9825ace2",
   "metadata": {},
   "outputs": [
    {
     "name": "stdout",
     "output_type": "stream",
     "text": [
      "R^2: 0.9990152104759368\n",
      "RMSE: 2944.4331996000997\n"
     ]
    }
   ],
   "source": [
    "# Compute R-squared\n",
    "r_squared = reg.score(X_test, y_test)\n",
    "\n",
    "# Compute RMSE\n",
    "rmse = mean_squared_error(y_test, y_pred, squared=False)\n",
    "\n",
    "# Print the metrics\n",
    "print(\"R^2: {}\".format(r_squared))\n",
    "print(\"RMSE: {}\".format(rmse))"
   ]
  }
 ],
 "metadata": {
  "kernelspec": {
   "display_name": "Python 3",
   "language": "python",
   "name": "python3"
  },
  "language_info": {
   "codemirror_mode": {
    "name": "ipython",
    "version": 3
   },
   "file_extension": ".py",
   "mimetype": "text/x-python",
   "name": "python",
   "nbconvert_exporter": "python",
   "pygments_lexer": "ipython3",
   "version": "3.8.8"
  }
 },
 "nbformat": 4,
 "nbformat_minor": 5
}
