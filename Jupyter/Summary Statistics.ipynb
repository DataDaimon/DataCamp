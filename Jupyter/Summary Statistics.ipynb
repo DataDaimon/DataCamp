{
 "cells": [
  {
   "cell_type": "code",
   "execution_count": 1,
   "id": "2a1047f1",
   "metadata": {},
   "outputs": [],
   "source": [
    "# Import numpy with alias np\n",
    "import numpy as np\n",
    "import pandas as pd"
   ]
  },
  {
   "cell_type": "code",
   "execution_count": 2,
   "id": "805aa04a",
   "metadata": {},
   "outputs": [],
   "source": [
    "food_consumption = pd.read_csv(\"C:/Users/Richard/Documents/GitHub/DataCamp/Datasets/Statistics in Python/food_consumption.csv\")"
   ]
  },
  {
   "cell_type": "markdown",
   "id": "4e9f2348",
   "metadata": {},
   "source": [
    "### Measures of Center"
   ]
  },
  {
   "cell_type": "code",
   "execution_count": 3,
   "id": "753a3300",
   "metadata": {},
   "outputs": [],
   "source": [
    "# Filter for Belgium\n",
    "be_consumption = food_consumption[food_consumption[\"country\"] == \"Belgium\"]"
   ]
  },
  {
   "cell_type": "code",
   "execution_count": 4,
   "id": "40347b79",
   "metadata": {},
   "outputs": [
    {
     "name": "stdout",
     "output_type": "stream",
     "text": [
      "     Unnamed: 0  country food_category  consumption  co2_emission\n",
      "396         397  Belgium          pork        38.65        136.80\n",
      "397         398  Belgium       poultry        12.20         13.11\n",
      "398         399  Belgium          beef        15.63        482.31\n",
      "399         400  Belgium     lamb_goat         1.32         46.23\n",
      "400         401  Belgium          fish        18.97         30.29\n",
      "401         402  Belgium          eggs        12.59         11.57\n",
      "402         403  Belgium         dairy       236.19        336.43\n",
      "403         404  Belgium         wheat       111.91         21.34\n",
      "404         405  Belgium          rice         8.61         11.02\n",
      "405         406  Belgium      soybeans         0.07          0.03\n",
      "406         407  Belgium          nuts         7.32         12.96\n"
     ]
    }
   ],
   "source": [
    "print(be_consumption)"
   ]
  },
  {
   "cell_type": "code",
   "execution_count": 5,
   "id": "a0dff72c",
   "metadata": {},
   "outputs": [],
   "source": [
    "# Filter for USA\n",
    "usa_consumption = food_consumption[food_consumption[\"country\"] == \"USA\"]"
   ]
  },
  {
   "cell_type": "code",
   "execution_count": 6,
   "id": "473bc25f",
   "metadata": {},
   "outputs": [
    {
     "name": "stdout",
     "output_type": "stream",
     "text": [
      "    Unnamed: 0 country food_category  consumption  co2_emission\n",
      "55          56     USA          pork        27.64         97.83\n",
      "56          57     USA       poultry        50.01         53.72\n",
      "57          58     USA          beef        36.24       1118.29\n",
      "58          59     USA     lamb_goat         0.43         15.06\n",
      "59          60     USA          fish        12.35         19.72\n",
      "60          61     USA          eggs        14.58         13.39\n",
      "61          62     USA         dairy       254.69        362.78\n",
      "62          63     USA         wheat        80.43         15.34\n",
      "63          64     USA          rice         6.88          8.80\n",
      "64          65     USA      soybeans         0.04          0.02\n",
      "65          66     USA          nuts         7.86         13.91\n"
     ]
    }
   ],
   "source": [
    "print(usa_consumption)"
   ]
  },
  {
   "cell_type": "code",
   "execution_count": 7,
   "id": "a9bd5ebe",
   "metadata": {},
   "outputs": [
    {
     "name": "stdout",
     "output_type": "stream",
     "text": [
      "42.132727272727266\n",
      "12.59\n"
     ]
    }
   ],
   "source": [
    "# Calculate mean and median consumption in Belgium\n",
    "print(np.mean(be_consumption[\"consumption\"]))\n",
    "print(np.median(be_consumption[\"consumption\"]))"
   ]
  },
  {
   "cell_type": "code",
   "execution_count": 8,
   "id": "d389ca96",
   "metadata": {},
   "outputs": [
    {
     "name": "stdout",
     "output_type": "stream",
     "text": [
      "44.650000000000006\n",
      "14.58\n"
     ]
    }
   ],
   "source": [
    "# Calculate mean and median consumption in USA\n",
    "print(np.mean(usa_consumption[\"consumption\"]))\n",
    "print(np.median(usa_consumption[\"consumption\"]))"
   ]
  },
  {
   "cell_type": "code",
   "execution_count": 9,
   "id": "5db9f8b6",
   "metadata": {},
   "outputs": [],
   "source": [
    "# Subset for Belgium and USA only\n",
    "be_and_usa = food_consumption[(food_consumption['country'] == \"Belgium\") | (food_consumption['country'] == 'USA')]"
   ]
  },
  {
   "cell_type": "code",
   "execution_count": 10,
   "id": "5d5826a8",
   "metadata": {},
   "outputs": [
    {
     "name": "stdout",
     "output_type": "stream",
     "text": [
      "     Unnamed: 0  country food_category  consumption  co2_emission\n",
      "55           56      USA          pork        27.64         97.83\n",
      "56           57      USA       poultry        50.01         53.72\n",
      "57           58      USA          beef        36.24       1118.29\n",
      "58           59      USA     lamb_goat         0.43         15.06\n",
      "59           60      USA          fish        12.35         19.72\n",
      "60           61      USA          eggs        14.58         13.39\n",
      "61           62      USA         dairy       254.69        362.78\n",
      "62           63      USA         wheat        80.43         15.34\n",
      "63           64      USA          rice         6.88          8.80\n",
      "64           65      USA      soybeans         0.04          0.02\n",
      "65           66      USA          nuts         7.86         13.91\n",
      "396         397  Belgium          pork        38.65        136.80\n",
      "397         398  Belgium       poultry        12.20         13.11\n",
      "398         399  Belgium          beef        15.63        482.31\n",
      "399         400  Belgium     lamb_goat         1.32         46.23\n",
      "400         401  Belgium          fish        18.97         30.29\n",
      "401         402  Belgium          eggs        12.59         11.57\n",
      "402         403  Belgium         dairy       236.19        336.43\n",
      "403         404  Belgium         wheat       111.91         21.34\n",
      "404         405  Belgium          rice         8.61         11.02\n",
      "405         406  Belgium      soybeans         0.07          0.03\n",
      "406         407  Belgium          nuts         7.32         12.96\n"
     ]
    }
   ],
   "source": [
    "print(be_and_usa)"
   ]
  },
  {
   "cell_type": "code",
   "execution_count": 11,
   "id": "63f2b4a9",
   "metadata": {},
   "outputs": [
    {
     "name": "stdout",
     "output_type": "stream",
     "text": [
      "              mean  median\n",
      "country                   \n",
      "Belgium  42.132727   12.59\n",
      "USA      44.650000   14.58\n"
     ]
    }
   ],
   "source": [
    "# Group by country, select consumption column, and compute mean and median\n",
    "print(be_and_usa.groupby('country')['consumption'].agg([np.mean, np.median]))"
   ]
  },
  {
   "cell_type": "code",
   "execution_count": 12,
   "id": "d5e1d767",
   "metadata": {},
   "outputs": [],
   "source": [
    "# Import matplotlib.pyplot with alias plt\n",
    "import matplotlib.pyplot as plt"
   ]
  },
  {
   "cell_type": "code",
   "execution_count": 13,
   "id": "1aeafc75",
   "metadata": {},
   "outputs": [
    {
     "data": {
      "image/png": "[encoded data removed]",
      "text/plain": [
       "<Figure size 432x288 with 1 Axes>"
      ]
     },
     "metadata": {
      "needs_background": "light"
     },
     "output_type": "display_data"
    }
   ],
   "source": [
    "# Subset for food_category equals rice\n",
    "rice_consumption = food_consumption[food_consumption[\"food_category\"] == \"rice\"]\n",
    "\n",
    "# Histogram of co2_emission for rice and show plot\n",
    "rice_consumption[\"co2_emission\"].hist()\n",
    "plt.show()"
   ]
  },
  {
   "cell_type": "code",
   "execution_count": 14,
   "id": "377c9806",
   "metadata": {},
   "outputs": [
    {
     "name": "stdout",
     "output_type": "stream",
     "text": [
      "mean      37.591615\n",
      "median    15.200000\n",
      "Name: co2_emission, dtype: float64\n"
     ]
    }
   ],
   "source": [
    "# Calculate mean and median of co2_emission with .agg()\n",
    "print(rice_consumption[\"co2_emission\"].agg([np.mean, np.median]))"
   ]
  },
  {
   "cell_type": "markdown",
   "id": "7ce9c4fb",
   "metadata": {},
   "source": [
    "### Measures of Spread"
   ]
  },
  {
   "cell_type": "code",
   "execution_count": null,
   "id": "b4f7c21a",
   "metadata": {},
   "outputs": [],
   "source": []
  }
 ],
 "metadata": {
  "kernelspec": {
   "display_name": "Python 3",
   "language": "python",
   "name": "python3"
  },
  "language_info": {
   "codemirror_mode": {
    "name": "ipython",
    "version": 3
   },
   "file_extension": ".py",
   "mimetype": "text/x-python",
   "name": "python",
   "nbconvert_exporter": "python",
   "pygments_lexer": "ipython3",
   "version": "3.8.8"
  }
 },
 "nbformat": 4,
 "nbformat_minor": 5
}
